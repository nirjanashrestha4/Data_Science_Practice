{
 "cells": [
  {
   "cell_type": "markdown",
   "metadata": {},
   "source": [
    "# Calculating number with functions"
   ]
  },
  {
   "cell_type": "code",
   "execution_count": 1,
   "metadata": {},
   "outputs": [
    {
     "name": "stdout",
     "output_type": "stream",
     "text": [
      "-5\n",
      "5\n"
     ]
    }
   ],
   "source": [
    "# abs(x) returns the absolute value of number x ( converts negative numbers to positive)\n",
    "x = -5\n",
    "y = abs(x)\n",
    "print(x)\n",
    "print(y)"
   ]
  },
  {
   "cell_type": "code",
   "execution_count": 2,
   "metadata": {},
   "outputs": [
    {
     "name": "stdout",
     "output_type": "stream",
     "text": [
      "1.23457453422\n",
      "1.2346\n"
     ]
    }
   ],
   "source": [
    "# round(x, y) rounds the number x to y number of decimal places.\n",
    "x = 1.23457453422\n",
    "y = round(x, 4)\n",
    "print(x)\n",
    "print(y)"
   ]
  },
  {
   "cell_type": "markdown",
   "metadata": {},
   "source": [
    "### Some built in python functions for numbers"
   ]
  },
  {
   "cell_type": "code",
   "execution_count": 31,
   "metadata": {},
   "outputs": [
    {
     "name": "stdout",
     "output_type": "stream",
     "text": [
      "999.9999\n",
      "-999\n",
      "999\n",
      "3.1416\n",
      "0b10000000\n",
      "0x80\n",
      "0o200\n",
      "128\n",
      "-999.9999\n",
      "<class 'int'>\n",
      "<class 'float'>\n",
      "<class 'str'>\n",
      "999\n"
     ]
    }
   ],
   "source": [
    "pi = 3.14159265358979\n",
    "x = 128\n",
    "y = -345.67890987\n",
    "z = -999.9999\n",
    "# abs(x) returns the absolute value of number x ( converts negative numbers to positive)\n",
    "print(abs(z))\n",
    "# int(x) converts x to the integer data type by truncating (not rounding) the decimal portion and any digits after it.\n",
    "print(int(z))\n",
    "print(int(abs(z)))\n",
    "# round(x, y) rounds the number x to y number of decimal places.\n",
    "print(round(pi, 4))\n",
    "# bin(x) returns a string representing the value of x converted to binary.\n",
    "print(bin(x))\n",
    "# hex(x) returns a string containing x converted to hexadecimal, prefixed with 0x.\n",
    "print(hex(x))\n",
    "# oct(x) converts x to an octal number, prefixes with 0o to indicate octal\n",
    "print(oct(x))\n",
    "# max(x,y,z,.....) takes any number of numeric arguments and returns whichever is the largest.\n",
    "print(max(pi, x, y, z))\n",
    "# min(x, y, z, ....) takes any number of numeric arguments and returns whichever is the smallest.\n",
    "print(min(pi, x, y, z))\n",
    "# type (x) returns a string indicating the data type of x\n",
    "print(type(x))\n",
    "print(type(pi))\n",
    "# str (x) converts the number x to the string data type\n",
    "print(type(str(y)))\n",
    "print(int(abs(z)))"
   ]
  },
  {
   "cell_type": "markdown",
   "metadata": {},
   "source": [
    "# Still more of the math functions"
   ]
  },
  {
   "cell_type": "code",
   "execution_count": 34,
   "metadata": {},
   "outputs": [
    {
     "name": "stdout",
     "output_type": "stream",
     "text": [
      "9.0\n"
     ]
    }
   ],
   "source": [
    "import math\n",
    "z = 81\n",
    "print(math.sqrt(z))"
   ]
  },
  {
   "cell_type": "markdown",
   "metadata": {},
   "source": [
    "### Some functions from the python math module"
   ]
  },
  {
   "cell_type": "code",
   "execution_count": 46,
   "metadata": {},
   "outputs": [
    {
     "name": "stdout",
     "output_type": "stream",
     "text": [
      "3.141592653589793\n",
      "2.718281828459045\n",
      "6.283185307179586\n",
      "9.0\n",
      "5040\n",
      "-23235\n",
      "401.07045659157626\n",
      "1.5707963267948966\n"
     ]
    }
   ],
   "source": [
    "import math\n",
    "# math.pi returns the mathematical constant pi(3.141592...)\n",
    "pi = math.pi\n",
    "# math.e returns e raised to the power x, where e is the base of natural logarithms\n",
    "e = math.e\n",
    "# math.tau() returns the mathematical constant tau(6.283185...)\n",
    "tau = math.tau\n",
    "x = 81\n",
    "y = 7\n",
    "z = -23234.5454\n",
    "print(pi)\n",
    "print(e)\n",
    "print(tau)\n",
    "# math.sqrt(x) returns the square root of x\n",
    "print(math.sqrt(x))\n",
    "# math.factorial(x) returns the factorial of x\n",
    "print(math.factorial(y))\n",
    "# math.floor() returns the floor of x, the largest integer less than or equal to x\n",
    "print(math.floor(z))\n",
    "# math.degrees(x) converts angle x from radians to degrees\n",
    "print(math.degrees(y))\n",
    "# math.radians(x) converts angle x from degrees to radians\n",
    "print(math.radians(90))\n"
   ]
  },
  {
   "cell_type": "markdown",
   "metadata": {},
   "source": [
    "# Formating Numbers"
   ]
  },
  {
   "cell_type": "markdown",
   "metadata": {},
   "source": [
    "### Formating with f-strings"
   ]
  },
  {
   "cell_type": "code",
   "execution_count": 49,
   "metadata": {},
   "outputs": [
    {
     "name": "stdout",
     "output_type": "stream",
     "text": [
      "Hello Nirjana\n"
     ]
    }
   ],
   "source": [
    "username = \"Nirjana\"\n",
    "print(f\"Hello {username}\")"
   ]
  },
  {
   "cell_type": "code",
   "execution_count": 51,
   "metadata": {},
   "outputs": [
    {
     "name": "stdout",
     "output_type": "stream",
     "text": [
      "Subtotal: $1499.7\n"
     ]
    }
   ],
   "source": [
    "unit_price = 49.99\n",
    "quantity = 30\n",
    "print(f\"Subtotal: ${quantity * unit_price}\")"
   ]
  },
  {
   "cell_type": "markdown",
   "metadata": {},
   "source": [
    "### Showing dollar amounts"
   ]
  },
  {
   "cell_type": "code",
   "execution_count": 53,
   "metadata": {},
   "outputs": [
    {
     "name": "stdout",
     "output_type": "stream",
     "text": [
      "Subtotal: $1,499.7\n",
      "Subtotal: $1,499.70\n"
     ]
    }
   ],
   "source": [
    "# To show commas in thousands places, we use comma in format string right after the colon, like this :,\n",
    "print(f\"Subtotal: ${quantity * unit_price:,}\")\n",
    "# To get the pennies to show as two digits, follow the comma with .2f\n",
    "print(f\"Subtotal: ${quantity * unit_price:,.2f}\")"
   ]
  },
  {
   "cell_type": "markdown",
   "metadata": {},
   "source": [
    "### Formatting percent numbers"
   ]
  },
  {
   "cell_type": "code",
   "execution_count": 54,
   "metadata": {},
   "outputs": [
    {
     "name": "stdout",
     "output_type": "stream",
     "text": [
      "Sales Tax Rate 0.065\n"
     ]
    }
   ],
   "source": [
    "sales_tax_rate = 0.065\n",
    "print(f\"Sales Tax Rate {sales_tax_rate}\")"
   ]
  },
  {
   "cell_type": "code",
   "execution_count": 58,
   "metadata": {},
   "outputs": [
    {
     "name": "stdout",
     "output_type": "stream",
     "text": [
      "Sales Tax Rate 6.50%\n",
      "Sales Tax Rate 6.5%\n",
      "Sales Tax Rate 6.5000000%\n"
     ]
    }
   ],
   "source": [
    "# To use more familiar 6.5% format rather than 0.065, we replace f from .2f with %%\n",
    "print(f\"Sales Tax Rate {sales_tax_rate:.2%}\")\n",
    "# we used 2 to get the two digit number, we can use 1 to get the 1 digit number\n",
    "print(f\"Sales Tax Rate {sales_tax_rate:.1%}\")\n",
    "print(f\"Sales Tax Rate {sales_tax_rate:.7%}\")"
   ]
  },
  {
   "cell_type": "markdown",
   "metadata": {},
   "source": [
    "### Making multiline format strings"
   ]
  },
  {
   "cell_type": "code",
   "execution_count": 1,
   "metadata": {},
   "outputs": [
    {
     "name": "stdout",
     "output_type": "stream",
     "text": [
      "Alberto \n",
      "Babs \n",
      "Carlos\n"
     ]
    }
   ],
   "source": [
    "# place \\n in single line format if we want a line break\n",
    "user1 = \"Alberto\"\n",
    "user2 = \"Babs\"\n",
    "user3 = \"Carlos\"\n",
    "output = f\"{user1} \\n{user2} \\n{user3}\"\n",
    "print(output)"
   ]
  },
  {
   "cell_type": "code",
   "execution_count": 3,
   "metadata": {},
   "outputs": [
    {
     "name": "stdout",
     "output_type": "stream",
     "text": [
      "\n",
      "Subtotal: $1,598.40\n",
      "Sales Tax: $1,382.62\n",
      "Total: $2,981.02\n",
      "\n"
     ]
    }
   ],
   "source": [
    "# Use Triple quotation marks (single or double), so that we don't need to add \\n in the format string, we can break it wherever we want.\n",
    "unit_price = 49.95\n",
    "quantity = 32\n",
    "sales_tax_rate = 0.865\n",
    "subtotal = quantity * unit_price\n",
    "sales_tax = sales_tax_rate * subtotal \n",
    "total = subtotal + sales_tax\n",
    "output = f\"\"\"\n",
    "Subtotal: ${subtotal:,.2f}\n",
    "Sales Tax: ${sales_tax:,.2f}\n",
    "Total: ${total:,.2f}\n",
    "\"\"\"\n",
    "print(output)\n"
   ]
  },
  {
   "cell_type": "markdown",
   "metadata": {},
   "source": [
    "### Formatting width and alignment"
   ]
  },
  {
   "cell_type": "code",
   "execution_count": 7,
   "metadata": {},
   "outputs": [
    {
     "name": "stdout",
     "output_type": "stream",
     "text": [
      "\n",
      "Subtotal: $ 1,598.40\n",
      "Sales Tax: $   103.90\n",
      "Total: $ 1,702.30\n",
      "\n"
     ]
    }
   ],
   "source": [
    "# we can control the width of the output by using colon in the f string, <(left aligned), ^(centered aligned), >(right aligned)\n",
    "unit_price = 49.95\n",
    "quantity = 32\n",
    "sales_tax_rate = 0.065\n",
    "subtotal = quantity * unit_price\n",
    "sales_tax = sales_tax_rate * subtotal \n",
    "total = subtotal + sales_tax\n",
    "output = f\"\"\"\n",
    "Subtotal: ${subtotal:>9,.2f}\n",
    "Sales Tax: ${sales_tax:>9,.2f}\n",
    "Total: ${total:>9,.2f}\n",
    "\"\"\"\n",
    "print(output)"
   ]
  },
  {
   "cell_type": "code",
   "execution_count": 10,
   "metadata": {},
   "outputs": [
    {
     "name": "stdout",
     "output_type": "stream",
     "text": [
      "\n",
      "Subtotal: $1,598.40\n",
      "Sales Tax:   $103.90\n",
      "Total: $1,702.30\n",
      "\n"
     ]
    }
   ],
   "source": [
    "# Numerical values\n",
    "unit_price = 49.95\n",
    "quantity = 32\n",
    "sales_tax_rate = 0.065\n",
    "subtotal = quantity * unit_price\n",
    "sales_tax = sales_tax_rate * subtotal \n",
    "total = subtotal + sales_tax\n",
    "\n",
    "# Format amounts to show as string with leading dollar sign\n",
    "s_sales_tax = \"$\" + f\"{sales_tax:,.2f}\"\n",
    "s_subtotal = \"$\" + f\"{subtotal:,.2f}\"\n",
    "s_total = \"$\" + f\"{total:,.2f}\"\n",
    "\n",
    "# Output the string with dollar sign already attached\n",
    "output = f\"\"\"\n",
    "Subtotal: {s_subtotal:>9}\n",
    "Sales Tax: {s_sales_tax:>9}\n",
    "Total: {s_total:>9}\n",
    "\"\"\"\n",
    "print(output)"
   ]
  },
  {
   "cell_type": "markdown",
   "metadata": {},
   "source": [
    "# Grappling with weirder numbers"
   ]
  },
  {
   "cell_type": "markdown",
   "metadata": {},
   "source": [
    "### Binary, octal and hexadecimal numbers"
   ]
  },
  {
   "cell_type": "code",
   "execution_count": 19,
   "metadata": {},
   "outputs": [
    {
     "name": "stdout",
     "output_type": "stream",
     "text": [
      "0b11111111\n",
      "0o377\n",
      "0xff\n",
      "255\n",
      "255\n",
      "255\n"
     ]
    }
   ],
   "source": [
    "x = 255\n",
    "# Convert decimal to other number systems\n",
    "print(bin(x))\n",
    "print(oct(x))\n",
    "print(hex(x))\n",
    "\n",
    "#Show number in decimal number system (no conversion required)\n",
    "print(0b11111111)\n",
    "print(0o377)\n",
    "print(0xff)"
   ]
  },
  {
   "cell_type": "markdown",
   "metadata": {},
   "source": [
    "### Complex numbers"
   ]
  },
  {
   "cell_type": "code",
   "execution_count": 23,
   "metadata": {},
   "outputs": [
    {
     "name": "stdout",
     "output_type": "stream",
     "text": [
      "(2-3j)\n",
      "2.0\n",
      "-3.0\n"
     ]
    }
   ],
   "source": [
    "z = complex(2, -3)\n",
    "print(z)\n",
    "print(z.real)\n",
    "print(z.imag)"
   ]
  },
  {
   "cell_type": "markdown",
   "metadata": {},
   "source": [
    "# Manipulating Strings"
   ]
  },
  {
   "cell_type": "markdown",
   "metadata": {},
   "source": [
    "### Concatenating strings"
   ]
  },
  {
   "cell_type": "code",
   "execution_count": 27,
   "metadata": {},
   "outputs": [
    {
     "name": "stdout",
     "output_type": "stream",
     "text": [
      "NirjanaBShrestha\n"
     ]
    }
   ],
   "source": [
    "first_name = \"Nirjana\"\n",
    "middle_name = \"B\"\n",
    "last_name = \"Shrestha\"\n",
    "full_name = first_name + middle_name + last_name\n",
    "print(full_name)"
   ]
  },
  {
   "cell_type": "code",
   "execution_count": 26,
   "metadata": {},
   "outputs": [
    {
     "name": "stdout",
     "output_type": "stream",
     "text": [
      "Nirjana B Shrestha\n"
     ]
    }
   ],
   "source": [
    "first_name = \"Nirjana\"\n",
    "middle_name = \"B\"\n",
    "last_name = \"Shrestha\"\n",
    "full_name = first_name +\" \"+ middle_name +\" \" + last_name\n",
    "print(full_name)"
   ]
  },
  {
   "cell_type": "markdown",
   "metadata": {},
   "source": [
    "### Getting the length of the string"
   ]
  },
  {
   "cell_type": "code",
   "execution_count": 29,
   "metadata": {},
   "outputs": [
    {
     "name": "stdout",
     "output_type": "stream",
     "text": [
      "0\n",
      "1\n",
      "5\n"
     ]
    }
   ],
   "source": [
    "s1 = \"\"\n",
    "s2 = \" \"\n",
    "s3 = \"A B C\"\n",
    "print(len(s1))\n",
    "print(len(s2))\n",
    "print(len(s3))"
   ]
  },
  {
   "cell_type": "markdown",
   "metadata": {},
   "source": [
    "### Working with common string operators"
   ]
  },
  {
   "cell_type": "code",
   "execution_count": 43,
   "metadata": {},
   "outputs": [
    {
     "name": "stdout",
     "output_type": "stream",
     "text": [
      "True\n",
      "False\n",
      "True\n",
      "---------------\n",
      "A\n",
      "turtle\n",
      "AadrHuPuy' tt v\n",
      " \n",
      "y\n",
      "18\n",
      "25\n",
      "5\n"
     ]
    }
   ],
   "source": [
    "s = \"Abracadabra Hocus Pocus you're a turtle dove\"\n",
    "# Is there a lowercase letter t is contained in s?\n",
    "#  x in s returns True if x exists somewhere in strings\n",
    "print(\"t\" in s)\n",
    "# Is there a uppercase letter T is contained in s?\n",
    "print(\"T\" in s)\n",
    "# Is there no uppercase T in s?\n",
    "# x not in s returns True if x is not contained in string s\n",
    "print(\"T\" not in s)\n",
    "# Print 15 hyphens in a row\n",
    "# s * n or n * s repeats string s n times\n",
    "print(\"-\" * 15) \n",
    "# Print first character in string s\n",
    "# s[i]  The ith item of strings where the first character is 0\n",
    "print(s[0])\n",
    "# Print characters 33-39 from string s\n",
    "# s[i:j] A slice from string x beginning with the character at position i through to the character at position j\n",
    "print(s[33:39])\n",
    "# Print every third character in s starting at zero\n",
    "# s[i:j:k] A slice of s from i to j with step k\n",
    "print(s[0:44:3])\n",
    "# Print lowest character is s ( a space is lower than the letter a)\n",
    "# min(s) is the smallest character of strings\n",
    "print(min(s))\n",
    "# Print the highes character is s\n",
    "# max(s) is the largest or thr highest character of strings\n",
    "print(max(s))\n",
    "# Where is the first uppercase P?\n",
    "#s.index(x[, i[, j]]) The numeric position of the first occurrence of x in strings. The optional i and j limit the search to the characters from i to j.\n",
    "print(s.index(\"P\"))\n",
    "#Where is the first lowercase O in the letter half of string s\n",
    "# Note that the returned value still starts counting from zero\n",
    "print(s.index(\"o\",22,44))\n",
    "# How many lowercase letters a are in string s?\n",
    "# s.count(x) The number of times string z appears in larger strings\n",
    "print(s.count(\"a\"))\n",
    "\n"
   ]
  },
  {
   "cell_type": "code",
   "execution_count": null,
   "metadata": {},
   "outputs": [],
   "source": []
  }
 ],
 "metadata": {
  "kernelspec": {
   "display_name": "base",
   "language": "python",
   "name": "python3"
  },
  "language_info": {
   "codemirror_mode": {
    "name": "ipython",
    "version": 3
   },
   "file_extension": ".py",
   "mimetype": "text/x-python",
   "name": "python",
   "nbconvert_exporter": "python",
   "pygments_lexer": "ipython3",
   "version": "3.11.7"
  }
 },
 "nbformat": 4,
 "nbformat_minor": 2
}
