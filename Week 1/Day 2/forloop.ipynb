{
 "cells": [
  {
   "cell_type": "markdown",
   "metadata": {},
   "source": [
    "#### Task 1\n",
    "After flipping a coin 10 times you got this result,\n",
    "```\n",
    "result = [\"heads\",\"tails\",\"tails\",\"heads\",\"tails\",\"heads\",\"heads\",\"tails\",\"tails\",\"tails\"]\n",
    "```\n",
    "Using for loop figure out how many times you got heads"
   ]
  },
  {
   "cell_type": "code",
   "execution_count": 13,
   "metadata": {},
   "outputs": [
    {
     "name": "stdout",
     "output_type": "stream",
     "text": [
      "Total number of heads: 4\n"
     ]
    }
   ],
   "source": [
    "result = [\"heads\",\"tails\",\"tails\",\"heads\",\"tails\",\"heads\",\"heads\",\"tails\",\"tails\",\"tails\"]\n",
    "coin='heads'\n",
    "heads=0\n",
    "for item in result:\n",
    "    if item==coin:\n",
    "        heads=heads+1\n",
    "        total_heads=heads\n",
    "print('Total number of heads:',total_heads)\n",
    "       "
   ]
  },
  {
   "cell_type": "markdown",
   "metadata": {},
   "source": [
    "#### Task 2\n",
    "Print square of all numbers between 1 to 10 except even numbers\n"
   ]
  },
  {
   "cell_type": "code",
   "execution_count": 14,
   "metadata": {},
   "outputs": [
    {
     "name": "stdout",
     "output_type": "stream",
     "text": [
      "4\n",
      "16\n",
      "36\n",
      "64\n",
      "100\n"
     ]
    }
   ],
   "source": [
    "for i in range(1,11):\n",
    "    if i%2!=0:\n",
    "        continue\n",
    "    print(i**2)\n"
   ]
  },
  {
   "cell_type": "markdown",
   "metadata": {},
   "source": [
    "#### Task 3\n",
    "Your monthly expense list (from Jan to May) looks like this,\n",
    "```\n",
    "expense_list = [2340, 2500, 2100, 3100, 2980]\n",
    "```\n",
    "Write a program that asks you to enter an expense amount and program\n",
    "should tell you in which month that expense occurred. If expense is not\n",
    "found then it should print that as well."
   ]
  },
  {
   "cell_type": "code",
   "execution_count": 21,
   "metadata": {},
   "outputs": [
    {
     "name": "stdout",
     "output_type": "stream",
     "text": [
      "You spent $2500 in February.\n"
     ]
    }
   ],
   "source": [
    "expense_list = [2340, 2500, 2100, 3100, 2980]\n",
    "month_list=['January','February','March','April','May']\n",
    "enter=input('Enter the expense amount:')\n",
    "enter=int(enter)\n",
    "month=-1\n",
    "for i in range(len(expense_list)):\n",
    "    if enter == expense_list[i]:\n",
    "        month = i\n",
    "        break\n",
    "\n",
    "if month!=-1:\n",
    "    print(f'You spent ${enter} in {month_list[month]}.')\n",
    "else:\n",
    "    print(f\"You didn't spent ${enter} in any month.\")\n",
    "    "
   ]
  },
  {
   "cell_type": "markdown",
   "metadata": {},
   "source": [
    "#### Task 4\n",
    "Lets say you are running a 5 km race. Write a program that,\n",
    "   1. Upon completing each 1 km asks you \"are you tired?\"\n",
    "   2. If you reply \"yes\" then it should break and print \"you didn't finish the race\"\n",
    "   3. If you reply \"no\" then it should continue and ask \"are you tired\" on every km\n",
    "   4. If you finish all 5 km then it should print congratulations message"
   ]
  },
  {
   "cell_type": "code",
   "execution_count": 5,
   "metadata": {},
   "outputs": [
    {
     "name": "stdout",
     "output_type": "stream",
     "text": [
      "You ran 1 miles.\n",
      "You didn't finish 5 km race but hey congrats anyways! You still ran 1 miles\n"
     ]
    }
   ],
   "source": [
    "for i in range(5):\n",
    "    print(f\"You ran {i+1} miles.\")\n",
    "    tired = input(\"Are you tired? \")\n",
    "    if tired == 'yes':\n",
    "        break\n",
    "if i == 4: \n",
    "    print(\"Hurray! You are a rock star! You just finished 5 km race!\")\n",
    "else:\n",
    "    print(f\"You didn't finish 5 km race but hey congrats anyways! You still ran {i+1} miles\")"
   ]
  },
  {
   "cell_type": "markdown",
   "metadata": {},
   "source": [
    "\n",
    "\n",
    "#### Task 5\n",
    "Write a program that prints following shape\n",
    "```\n",
    "*\n",
    "**\n",
    "***\n",
    "****\n",
    "*****\n",
    "```"
   ]
  },
  {
   "cell_type": "code",
   "execution_count": 6,
   "metadata": {},
   "outputs": [
    {
     "name": "stdout",
     "output_type": "stream",
     "text": [
      "*\n",
      "**\n",
      "***\n",
      "****\n",
      "*****\n"
     ]
    }
   ],
   "source": [
    "for i in range(1,6):\n",
    "    s=''\n",
    "    for j in range(i):\n",
    "        s+='*'\n",
    "    print(s)"
   ]
  }
 ],
 "metadata": {
  "kernelspec": {
   "display_name": "base",
   "language": "python",
   "name": "python3"
  },
  "language_info": {
   "codemirror_mode": {
    "name": "ipython",
    "version": 3
   },
   "file_extension": ".py",
   "mimetype": "text/x-python",
   "name": "python",
   "nbconvert_exporter": "python",
   "pygments_lexer": "ipython3",
   "version": "3.11.7"
  }
 },
 "nbformat": 4,
 "nbformat_minor": 2
}
