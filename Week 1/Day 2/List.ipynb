{
 "cells": [
  {
   "cell_type": "markdown",
   "metadata": {},
   "source": [
    "#### Task 1 \n",
    "Let us say your expense for every month are listed below,\n",
    "1. January -  2200\n",
    "2. February - 2350\n",
    "3. March - 2600\n",
    "4. April - 2130\n",
    "5. May - 2190\n",
    "\n",
    "Create a list to store these monthly expenses and using that find out,\n",
    "1. In Feb, how many dollars you spent extra compare to January?\n",
    "\n",
    "\n",
    "\n",
    "\n"
   ]
  },
  {
   "cell_type": "code",
   "execution_count": 10,
   "metadata": {},
   "outputs": [
    {
     "name": "stdout",
     "output_type": "stream",
     "text": [
      "Extra spent in february as compare to January: $ 150\n"
     ]
    }
   ],
   "source": [
    "expenses = [2200, 2350, 2600, 2130, 2190]\n",
    "extra_spend=expenses[1]-expenses[0]\n",
    "print('Extra spent in February as compare to January: $',extra_spend)"
   ]
  },
  {
   "cell_type": "markdown",
   "metadata": {},
   "source": [
    "2. Find out your total expense in first quarter (first three months) of the year."
   ]
  },
  {
   "cell_type": "code",
   "execution_count": 13,
   "metadata": {},
   "outputs": [
    {
     "name": "stdout",
     "output_type": "stream",
     "text": [
      "The total quarter expenses of the year: $ 7150\n"
     ]
    }
   ],
   "source": [
    "expenses = [2200, 2350, 2600, 2130, 2190]\n",
    "total_quarter= expenses[0]+expenses[1]+expenses[2]\n",
    "print('The total quarter expenses of the year: $',total_quarter) "
   ]
  },
  {
   "cell_type": "markdown",
   "metadata": {},
   "source": [
    "3. Find out if you spent exactly 2000 dollars in any month"
   ]
  },
  {
   "cell_type": "code",
   "execution_count": 14,
   "metadata": {},
   "outputs": [
    {
     "name": "stdout",
     "output_type": "stream",
     "text": [
      "If I spent excatly $2000 in any months: False\n"
     ]
    }
   ],
   "source": [
    "expenses = [2200, 2350, 2600, 2130, 2190]\n",
    "print('If I spent excatly $2000 in any months:', 2000 in expenses)"
   ]
  },
  {
   "cell_type": "markdown",
   "metadata": {},
   "source": [
    "4. June month just finished and your expense is 1980 dollar. Add this item to our monthly expense list"
   ]
  },
  {
   "cell_type": "code",
   "execution_count": 17,
   "metadata": {},
   "outputs": [
    {
     "name": "stdout",
     "output_type": "stream",
     "text": [
      "Total expenses from January to June: [2200, 2350, 2600, 2130, 2190, 1980]\n"
     ]
    }
   ],
   "source": [
    "expenses = [2200, 2350, 2600, 2130, 2190]\n",
    "expenses.append(1980)\n",
    "print('Total expenses from January to June:',expenses)"
   ]
  },
  {
   "cell_type": "markdown",
   "metadata": {},
   "source": [
    "5. You returned an item that you bought in a month of April and\n",
    "got a refund of 200$. Make a correction to your monthly expense list\n",
    "based on this"
   ]
  },
  {
   "cell_type": "code",
   "execution_count": 22,
   "metadata": {},
   "outputs": [
    {
     "name": "stdout",
     "output_type": "stream",
     "text": [
      "Spend on April: $ 1980\n",
      "Total expenses: [2200, 2350, 2600, 1980, 2190]\n"
     ]
    }
   ],
   "source": [
    "expenses = [2200, 2350, 2600, 2130, 2190]\n",
    "expenses[3]=expenses[3]- 150\n",
    "print('Spend on April: $', expenses[3])\n",
    "print('Total expenses:',expenses)"
   ]
  },
  {
   "cell_type": "markdown",
   "metadata": {},
   "source": [
    "#### Task 2\n",
    "You have a list of your favourite marvel super heros.\n",
    "\n",
    "heros=['spider man','thor','hulk','iron man','captain america']\n",
    "\n",
    "Using this find out,\n",
    "1. Length of the list\n",
    "\n",
    "\n"
   ]
  },
  {
   "cell_type": "code",
   "execution_count": 23,
   "metadata": {},
   "outputs": [
    {
     "data": {
      "text/plain": [
       "5"
      ]
     },
     "execution_count": 23,
     "metadata": {},
     "output_type": "execute_result"
    }
   ],
   "source": [
    "heroes=['spider man','thor','hulk','iron man','captain america']\n",
    "len(heroes)"
   ]
  },
  {
   "cell_type": "markdown",
   "metadata": {},
   "source": [
    "2. Add 'black panther' at the end of this list"
   ]
  },
  {
   "cell_type": "code",
   "execution_count": 26,
   "metadata": {},
   "outputs": [
    {
     "name": "stdout",
     "output_type": "stream",
     "text": [
      "Heroes: ['Spider Man', 'Thor', 'Hulk', 'Iron Man', 'Captain America', 'Black Panther']\n"
     ]
    }
   ],
   "source": [
    "heroes=['Spider Man','Thor','Hulk','Iron Man','Captain America']\n",
    "heroes.append('Black Panther')\n",
    "print('Heroes:',heroes)"
   ]
  },
  {
   "cell_type": "markdown",
   "metadata": {},
   "source": [
    "3. You realize that you need to add 'black panther' after 'hulk',\n",
    "so remove it from the list first and then add it after 'hulk'"
   ]
  },
  {
   "cell_type": "code",
   "execution_count": 34,
   "metadata": {},
   "outputs": [
    {
     "name": "stdout",
     "output_type": "stream",
     "text": [
      "Heroes: ['Spider Man', 'Thor', 'Hulk', 'Black Panther', 'Iron Man', 'Captain America']\n"
     ]
    }
   ],
   "source": [
    "heroes=['Spider Man', 'Thor', 'Hulk', 'Iron Man', 'Captain America', 'Black Panther']\n",
    "heroes.remove(\"Black Panther\")\n",
    "heroes.insert(3,'Black Panther')\n",
    "print('Heroes:',heroes)\n"
   ]
  },
  {
   "cell_type": "markdown",
   "metadata": {},
   "source": [
    "4. Now you don't like thor and hulk because they get angry easily.\n",
    "So you want to remove thor and hulk from list and replace them with doctor strange (because he is cool).\n",
    "Do that with one line of code."
   ]
  },
  {
   "cell_type": "code",
   "execution_count": 37,
   "metadata": {},
   "outputs": [
    {
     "name": "stdout",
     "output_type": "stream",
     "text": [
      "['Spider Man', 'Doctor Stranger', 'Iron Man', 'Captain America', 'Black Panther']\n"
     ]
    }
   ],
   "source": [
    "heroes=['Spider Man', 'Thor', 'Hulk', 'Iron Man', 'Captain America', 'Black Panther']\n",
    "heroes[1:3]=['Doctor Stranger']\n",
    "print(heroes)"
   ]
  },
  {
   "cell_type": "markdown",
   "metadata": {},
   "source": [
    "5. Sort the heros list in alphabetical order (Hint. Use dir() functions to list down all functions available in list)"
   ]
  },
  {
   "cell_type": "code",
   "execution_count": 39,
   "metadata": {},
   "outputs": [
    {
     "name": "stdout",
     "output_type": "stream",
     "text": [
      "['Black Panther', 'Captain America', 'Doctor Stranger', 'Iron Man', 'Spider Man']\n"
     ]
    }
   ],
   "source": [
    "heroes=['Spider Man', 'Doctor Stranger', 'Iron Man', 'Captain America', 'Black Panther']\n",
    "heroes.sort()\n",
    "print(heroes)"
   ]
  }
 ],
 "metadata": {
  "kernelspec": {
   "display_name": "base",
   "language": "python",
   "name": "python3"
  },
  "language_info": {
   "codemirror_mode": {
    "name": "ipython",
    "version": 3
   },
   "file_extension": ".py",
   "mimetype": "text/x-python",
   "name": "python",
   "nbconvert_exporter": "python",
   "pygments_lexer": "ipython3",
   "version": "3.11.7"
  }
 },
 "nbformat": 4,
 "nbformat_minor": 2
}
