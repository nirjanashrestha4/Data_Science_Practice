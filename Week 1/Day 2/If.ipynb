{
 "cells": [
  {
   "cell_type": "markdown",
   "metadata": {},
   "source": [
    "#### Task 1"
   ]
  },
  {
   "cell_type": "markdown",
   "metadata": {},
   "source": [
    "Using following list of cities per country,\n",
    "\n",
    "Australia = ['Sydney', 'Melbourne', 'Brisbane', 'Perth'], Nepal = ['Kathmandu', 'Bhaktapur', 'Lalitpur'], India = ['Mumbai', 'Banglore', 'Chennai', 'Delhi'] \n",
    "1. Write a program that asks user to enter a city name and it should tell which country the city belongs to\n",
    "\n"
   ]
  },
  {
   "cell_type": "code",
   "execution_count": 17,
   "metadata": {},
   "outputs": [
    {
     "name": "stdout",
     "output_type": "stream",
     "text": [
      "According to my understanding, I don't know where does  belongs.\n"
     ]
    }
   ],
   "source": [
    "australia = ['Sydney', 'Melbourne', 'Brisbane', 'Perth']\n",
    "nepal = ['Kathmandu', 'Bhaktapur', 'Lalitpur']\n",
    "india = ['Mumbai', 'Banglore', 'Chennai', 'Delhi']\n",
    "city=input(\"Enter the city name:\")\n",
    "if city in australia:\n",
    "    print(\"The\",city,'belongs to Australia')\n",
    "elif city in nepal:\n",
    "    print(\"The\",city,'belongs to Nepal')\n",
    "elif city in india:\n",
    "    print(\"The\",city,'belongs to India')\n",
    "else:\n",
    "    print(\"According to my understanding, I don't know where does\",city,\"belongs.\")"
   ]
  },
  {
   "cell_type": "markdown",
   "metadata": {},
   "source": [
    "2. Write a program that asks user to enter two cities and it tells you if they both are in same country or not. For example if I enter Sydney and Perth, it will print \"Both cities are in Australia\" but if I enter Sydney and Kathmandu it should print \"Cities don't belong to same country\""
   ]
  },
  {
   "cell_type": "code",
   "execution_count": 13,
   "metadata": {},
   "outputs": [
    {
     "name": "stdout",
     "output_type": "stream",
     "text": [
      "Both Sydney and Perth are in Australia.\n"
     ]
    }
   ],
   "source": [
    "australia = ['Sydney', 'Melbourne', 'Brisbane', 'Perth']\n",
    "nepal = ['Kathmandu', 'Bhaktapur', 'Lalitpur']\n",
    "india = ['Mumbai', 'Banglore', 'Chennai', 'Delhi']\n",
    "city1=input(\"Enter the name of one city:\")\n",
    "city2=input('Enter the name of anothe city:')\n",
    "if city1 and city2 in australia:\n",
    "    print('Both',city1,'and',city2,'are in Australia.')\n",
    "elif city1 and city2 in nepal:\n",
    "    print('Both', city1,'and',city2,'are in Nepal.')\n",
    "elif city1 and city2 in india:\n",
    "    print('Both', city1, 'and',city2,'are in India.')\n",
    "else:\n",
    "    print(city1,'and',city2, \"don't belong to same country.\")"
   ]
  },
  {
   "cell_type": "markdown",
   "metadata": {},
   "source": [
    "#### Task 2"
   ]
  },
  {
   "cell_type": "markdown",
   "metadata": {},
   "source": [
    "Write a python program that can tell you if your sugar is normal or not. Normal fasting level sugar range is 80 to 100.\n",
    "1. Ask user to enter his fasting sugar level\n",
    "2. If it is below 80 to 100 range then print that sugar is low\n",
    "3. If it is above 100 then print that it is high otherwise print that it is normal"
   ]
  },
  {
   "cell_type": "code",
   "execution_count": 15,
   "metadata": {},
   "outputs": [
    {
     "name": "stdout",
     "output_type": "stream",
     "text": [
      "The sugar is high.\n"
     ]
    }
   ],
   "source": [
    "sugar=input('Enter the sugar level:')\n",
    "sugar=int(sugar)\n",
    "if sugar < 80:\n",
    "    print('The sugar is low.')\n",
    "elif sugar>100:\n",
    "    print('The sugar is high.')\n",
    "else:\n",
    "    print('The sugar is normal')\n"
   ]
  }
 ],
 "metadata": {
  "kernelspec": {
   "display_name": "base",
   "language": "python",
   "name": "python3"
  },
  "language_info": {
   "codemirror_mode": {
    "name": "ipython",
    "version": 3
   },
   "file_extension": ".py",
   "mimetype": "text/x-python",
   "name": "python",
   "nbconvert_exporter": "python",
   "pygments_lexer": "ipython3",
   "version": "3.11.7"
  }
 },
 "nbformat": 4,
 "nbformat_minor": 2
}
