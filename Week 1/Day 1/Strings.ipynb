{
 "cells": [
  {
   "cell_type": "markdown",
   "metadata": {},
   "source": [
    "#### Task 1: Creating there variables to store street, city and country then create address variable to store entire address. Using two ways one with the + operator and another with f-string."
   ]
  },
  {
   "cell_type": "code",
   "execution_count": 10,
   "metadata": {},
   "outputs": [
    {
     "name": "stdout",
     "output_type": "stream",
     "text": [
      "Full address using + operator: Campsie Street, Campsie, Australia\n",
      "Full address using f-string: Campsie Street, Campsie, Australia\n"
     ]
    }
   ],
   "source": [
    "street = 'Campsie Street'\n",
    "city = 'Campsie'\n",
    "country = 'Australia'\n",
    "address = street + ', ' + city +', '+ country\n",
    "print('Full address using + operator:', address)\n",
    "address = f'{street}, {city}, {country}'\n",
    "print('Full address using f-string:', address)"
   ]
  },
  {
   "cell_type": "markdown",
   "metadata": {},
   "source": [
    "#### Task 2: Create a variable to store the string \"Earth revoles around the sun\"\n",
    " 1. Print \"revolves\" using slice operator\n",
    " 2. Print \"sun\" using negative index."
   ]
  },
  {
   "cell_type": "code",
   "execution_count": 17,
   "metadata": {},
   "outputs": [
    {
     "name": "stdout",
     "output_type": "stream",
     "text": [
      "Using the slice operator: revolves\n",
      "Using negative index: sun\n"
     ]
    }
   ],
   "source": [
    "earth = \"Earth revolves around the sun\"\n",
    "print(\"Using the slice operator:\",earth[6:14])\n",
    "print(\"Using negative index:\", earth[-3:])"
   ]
  },
  {
   "cell_type": "markdown",
   "metadata": {},
   "source": [
    "#### Task 3: Create two variable to store how many fruits and vegetables you eat in a day. Now print \"I eat x veggies and y fruits daily\" where x and y presents vegetables and fruits that you eat everyday. Use python f string for this."
   ]
  },
  {
   "cell_type": "code",
   "execution_count": 19,
   "metadata": {},
   "outputs": [
    {
     "name": "stdout",
     "output_type": "stream",
     "text": [
      "I eat 5 and 7 fruits daily\n"
     ]
    }
   ],
   "source": [
    "veggies = 5\n",
    "fruits = 7\n",
    "print(f\"I eat {veggies} and {fruits} fruits daily\")"
   ]
  },
  {
   "cell_type": "markdown",
   "metadata": {},
   "source": [
    "#### Task 4: I have a string variable called s=\" I have 4 assignment due next week\". This of course is a wrong statement, the correct statememt is \"I have 1 assignment due this week\". Replace incorrest words in original sround with new ones and print the new string. Also try to do this in one line."
   ]
  },
  {
   "cell_type": "code",
   "execution_count": 25,
   "metadata": {},
   "outputs": [
    {
     "name": "stdout",
     "output_type": "stream",
     "text": [
      "I have 4 assignment due next week.\n",
      "Using two line: I have 1 assignment due this week.\n",
      "Using one line: I have 1 assignment due this week.\n"
     ]
    }
   ],
   "source": [
    "s='I have 4 assignment due next week.'\n",
    "print(s)\n",
    "s=s.replace('4', '1')\n",
    "s=s.replace('next', 'this')\n",
    "print('Using two line:',s)\n",
    "s=s.replace('4', '1').replace('next', 'this')\n",
    "print('Using one line:', s)"
   ]
  }
 ],
 "metadata": {
  "kernelspec": {
   "display_name": "base",
   "language": "python",
   "name": "python3"
  },
  "language_info": {
   "codemirror_mode": {
    "name": "ipython",
    "version": 3
   },
   "file_extension": ".py",
   "mimetype": "text/x-python",
   "name": "python",
   "nbconvert_exporter": "python",
   "pygments_lexer": "ipython3",
   "version": "3.11.7"
  }
 },
 "nbformat": 4,
 "nbformat_minor": 2
}
