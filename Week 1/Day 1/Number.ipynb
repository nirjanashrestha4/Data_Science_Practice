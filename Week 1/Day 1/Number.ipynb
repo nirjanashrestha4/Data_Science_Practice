{
 "cells": [
  {
   "cell_type": "markdown",
   "metadata": {},
   "source": [
    "#### Task 1: We have a football field of 92 meter long and 48.8 meter wide. Our task is to find the total area of the football field using python and print."
   ]
  },
  {
   "cell_type": "code",
   "execution_count": 15,
   "metadata": {},
   "outputs": [
    {
     "name": "stdout",
     "output_type": "stream",
     "text": [
      "Total area of the football field: 4489.599999999999 meter\n"
     ]
    }
   ],
   "source": [
    "length = 92\n",
    "width = 48.8\n",
    "total_area = length * width\n",
    "print('Total area of the football field:',total_area,'meter')"
   ]
  },
  {
   "cell_type": "markdown",
   "metadata": {},
   "source": [
    "#### Task 2: Each packet of chips was 1.49 dollar. We bought 9 packet of chips and gave 20 dollar to cashier, calculate how much we will get back."
   ]
  },
  {
   "cell_type": "code",
   "execution_count": 9,
   "metadata": {},
   "outputs": [
    {
     "name": "stdout",
     "output_type": "stream",
     "text": [
      "Total price of chips: $ 13.41\n",
      "We will get back $ 6.59\n"
     ]
    }
   ],
   "source": [
    "price = 1.49\n",
    "number_of_chips = 9\n",
    "paid = 20\n",
    "total_price_of_chips = price * number_of_chips\n",
    "print('Total price of chips: $',total_price_of_chips)\n",
    "return_amount = paid - total_price_of_chips\n",
    "print('We will get back $', return_amount)"
   ]
  },
  {
   "cell_type": "markdown",
   "metadata": {},
   "source": [
    "#### Task 3: We want to change the tile of the bathroom, the bathroom is exactly square and 5.5 feet long. The total cost of tile is 500 rs per square feet, calculate how much is the total cost for full replace of the tiles in bathroom. "
   ]
  },
  {
   "cell_type": "code",
   "execution_count": 16,
   "metadata": {},
   "outputs": [
    {
     "name": "stdout",
     "output_type": "stream",
     "text": [
      "Total area of the bathroom: 30.25 meter\n",
      "Total cost for the full replace of tiles in the bathroom: rs 15125.0\n"
     ]
    }
   ],
   "source": [
    "lengh = 5.5\n",
    "area = lengh**2\n",
    "print('Total area of the bathroom:', area, 'meter')\n",
    "tile_cost = 500\n",
    "total_tile_cost = area * tile_cost\n",
    "print('Total cost for the full replace of tiles in the bathroom: rs', total_tile_cost)"
   ]
  },
  {
   "cell_type": "markdown",
   "metadata": {},
   "source": [
    "#### Task 4: Print binary representation of number 17"
   ]
  },
  {
   "cell_type": "code",
   "execution_count": 17,
   "metadata": {},
   "outputs": [
    {
     "name": "stdout",
     "output_type": "stream",
     "text": [
      "Binary of number 17: 10001\n"
     ]
    }
   ],
   "source": [
    "num = 17\n",
    "print('Binary of number 17:',format(num,'b'))"
   ]
  },
  {
   "cell_type": "code",
   "execution_count": null,
   "metadata": {},
   "outputs": [],
   "source": []
  }
 ],
 "metadata": {
  "kernelspec": {
   "display_name": "base",
   "language": "python",
   "name": "python3"
  },
  "language_info": {
   "codemirror_mode": {
    "name": "ipython",
    "version": 3
   },
   "file_extension": ".py",
   "mimetype": "text/x-python",
   "name": "python",
   "nbconvert_exporter": "python",
   "pygments_lexer": "ipython3",
   "version": "3.11.7"
  }
 },
 "nbformat": 4,
 "nbformat_minor": 2
}
