{
 "cells": [
  {
   "cell_type": "markdown",
   "metadata": {},
   "source": [
    "#### Task 1\n",
    "\n",
    "We have following information on countries and their population (population is in crores),\n",
    "\n",
    "|Country|Population|\n",
    "|-------|----------|\n",
    "|China|143|\n",
    "|India|136|\n",
    "|USA|32|\n",
    "|Pakistan|21|\n",
    "1. Using above create a dictionary of countries and its population\n",
    "2. Write a program that asks user for three type of inputs,\n",
    "    1. print: if user enter print then it should print all countries with their population in this format,\n",
    "        ```\n",
    "        china==>143\n",
    "        india==>136\n",
    "        usa==>32\n",
    "        pakistan==>21\n",
    "        ```\n",
    "    1. add: if user input add then it should further ask for a country name to add. If country already exist in our dataset then it should print that it exist and do nothing. If it doesn't then it asks for population and add that new country/population in our dictionary and print it\n",
    "    2. remove: when user inputs remove it should ask for a country to remove. If country exist in our dictionary then remove it and print new dictionary using format shown above in (a). Else print that country doesn't exist!\n",
    "    3. query: on this again ask user for which country he or she wants to query. When user inputs that country it will print population of that country."
   ]
  },
  {
   "cell_type": "code",
   "execution_count": 2,
   "metadata": {},
   "outputs": [],
   "source": [
    "population = {\n",
    "    'china': 143,\n",
    "    'india': 136,\n",
    "    'usa': 32,\n",
    "    'pakistan': 21\n",
    "}\n",
    "\n",
    "def add():\n",
    "    country=input(\"Enter country name to add:\")\n",
    "    country=country.lower()\n",
    "    if country in population:\n",
    "        print(\"Country already exist in our dataset. Terminating\")\n",
    "        return\n",
    "    p=input(f\"Enter population for {country}\")\n",
    "    p=float(p)\n",
    "    population[country]=p # Adds new key value pair to dictionary\n",
    "    print_all()\n",
    "\n",
    "def remove():\n",
    "    country = input(\"Enter country name to remove:\")\n",
    "    country = country.lower()\n",
    "    if country not in population:\n",
    "        print(\"Country doesn't exist in our dataset. Terminating\")\n",
    "        return\n",
    "    del population[country]\n",
    "    print_all()\n",
    "\n",
    "def query():\n",
    "    country = input(\"Enter country name to query:\")\n",
    "    country = country.lower()\n",
    "    if country not in population:\n",
    "        print(\"Country doesn't exist in our dataset. Terminating\")\n",
    "        return\n",
    "    print(f\"Population of {country} is: {population[country]} crore\")\n",
    "\n",
    "def print_all():\n",
    "    for country, p in population.items():\n",
    "        print(f\"{country}==>{p}\")\n",
    "\n",
    "def main():\n",
    "    op=input(\"Enter operation (add, remove, query or print):\")\n",
    "    if op.lower() == 'add':\n",
    "        add()\n",
    "    elif op.lower() == 'remove':\n",
    "        remove()\n",
    "    elif op.lower() == 'query':\n",
    "        query()\n",
    "    elif op.lower() == 'print':\n",
    "        print_all()\n",
    "\n",
    "if __name__ == '__main__':\n",
    "    main()"
   ]
  },
  {
   "cell_type": "markdown",
   "metadata": {},
   "source": [
    "2. You are given following list of stocks and their prices in last 3 days,\n",
    "\n",
    "    |Stock|Prices|\n",
    "    |-------|----------|\n",
    "    |info|[600,630,620]|\n",
    "    |ril|[1430,1490,1567]|\n",
    "    |mtl|[234,180,160]|\n",
    "\n",
    "    1. Write a program that asks user for operation. Value of operations could be,\n",
    "        1. print: When user enters print it should print following,\n",
    "            ```\n",
    "            info ==> [600, 630, 620] ==> avg:  616.67\n",
    "            ril ==> [1430, 1490, 1567] ==> avg:  1495.67\n",
    "            mtl ==> [234, 180, 160] ==> avg:  191.33\n",
    "            ```\n",
    "        2. add: When user enters 'add', it asks for stock ticker and price. If stock already exist in your list (like info, ril etc) then it will append the price to the list. Otherwise it will create new entry in your dictionary. For example entering 'tata' and 560 will add tata ==> [560] to the dictionary of stocks."
   ]
  },
  {
   "cell_type": "code",
   "execution_count": 1,
   "metadata": {},
   "outputs": [
    {
     "name": "stdout",
     "output_type": "stream",
     "text": [
      "Unsupported operation: 5665\n"
     ]
    }
   ],
   "source": [
    "import statistics\n",
    "\n",
    "stocks = {\n",
    "    'info': [600,630,620],\n",
    "    'ril': [1430,1490,1567],\n",
    "    'mtl': [234,180,160]\n",
    "}\n",
    "\n",
    "def print_all():\n",
    "    for stock,price_list in stocks.items():\n",
    "        avg = statistics.mean(price_list)\n",
    "        print(f\"{stock} ==> {price_list} ==> avg: \",round(avg,2))\n",
    "\n",
    "\n",
    "def add():\n",
    "    s = input(\"Enter a stock ticker to add:\")\n",
    "    p = input(\"Enter price of this stock:\")\n",
    "    p=float(p)\n",
    "    if s in stocks:\n",
    "        stocks[s].append(p)\n",
    "    else:\n",
    "        stocks[s] = [p]\n",
    "    print_all()\n",
    "\n",
    "\n",
    "def main():\n",
    "    op=input(\"Enter operation (print, add or amend):\")\n",
    "    if op.lower() == 'print':\n",
    "        print_all()\n",
    "    elif op.lower() == 'add':\n",
    "        add()\n",
    "    else:\n",
    "        print(\"Unsupported operation:\",op)\n",
    "\n",
    "if __name__ == '__main__':\n",
    "    main()\n"
   ]
  },
  {
   "cell_type": "markdown",
   "metadata": {},
   "source": [
    "3. Write circle_calc() function that takes radius of a circle as an input from user and then it calculates and returns area, circumference and diameter. You should get these values in your main program by calling circle_calc function and then print them"
   ]
  },
  {
   "cell_type": "code",
   "execution_count": 3,
   "metadata": {},
   "outputs": [
    {
     "name": "stdout",
     "output_type": "stream",
     "text": [
      "area 78.53981633974483, circumference 31.41592653589793, diameter 10.0\n"
     ]
    }
   ],
   "source": [
    "import math\n",
    "\n",
    "def circle_calc(radius):\n",
    "    area=math.pi*(radius**2)\n",
    "    circumference=2*math.pi*radius\n",
    "    diameter=2*radius\n",
    "    return area, circumference,diameter\n",
    "\n",
    "if __name__==\"__main__\":\n",
    "    r=input(\"Enter a radius:\")\n",
    "    r=float(r)\n",
    "    area, c, d = circle_calc(r)\n",
    "    print(f\"area {area}, circumference {c}, diameter {d}\")"
   ]
  },
  {
   "cell_type": "markdown",
   "metadata": {},
   "source": []
  }
 ],
 "metadata": {
  "kernelspec": {
   "display_name": "base",
   "language": "python",
   "name": "python3"
  },
  "language_info": {
   "codemirror_mode": {
    "name": "ipython",
    "version": 3
   },
   "file_extension": ".py",
   "mimetype": "text/x-python",
   "name": "python",
   "nbconvert_exporter": "python",
   "pygments_lexer": "ipython3",
   "version": "3.11.7"
  }
 },
 "nbformat": 4,
 "nbformat_minor": 2
}
