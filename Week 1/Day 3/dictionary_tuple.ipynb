{
 "cells": [
  {
   "cell_type": "markdown",
   "metadata": {},
   "source": [
    "#### Task 1\n",
    "\n",
    "We have following information on countries and their population (population is in crores),\n",
    "\n",
    "|Country|Population|\n",
    "|-------|----------|\n",
    "|China|143|\n",
    "|India|136|\n",
    "|USA|32|\n",
    "|Pakistan|21|\n",
    "1. Using above create a dictionary of countries and its population\n",
    "2. Write a program that asks user for three type of inputs,\n",
    "    1. print: if user enter print then it should print all countries with their population in this format,\n",
    "        ```\n",
    "        china==>143\n",
    "        india==>136\n",
    "        usa==>32\n",
    "        pakistan==>21\n",
    "        ```\n",
    "    1. add: if user input add then it should further ask for a country name to add. If country already exist in our dataset then it should print that it exist and do nothing. If it doesn't then it asks for population and add that new country/population in our dictionary and print it\n",
    "    2. remove: when user inputs remove it should ask for a country to remove. If country exist in our dictionary then remove it and print new dictionary using format shown above in (a). Else print that country doesn't exist!\n",
    "    3. query: on this again ask user for which country he or she wants to query. When user inputs that country it will print population of that country."
   ]
  },
  {
   "cell_type": "code",
   "execution_count": 10,
   "metadata": {},
   "outputs": [
    {
     "name": "stdout",
     "output_type": "stream",
     "text": [
      "143 :  China\n",
      "136 :  India\n",
      "32 :  :USA\n",
      "21 :  Pakistan\n"
     ]
    }
   ],
   "source": [
    "d={\"China\":143, \"India\":136, \":USA\":32, \"Pakistan\":21}\n",
    "i=input(\"Enter the name of the country:\")\n",
    "for key in d:\n",
    "    i = key\n",
    "    print(d[key],\": \",i)\n"
   ]
  },
  {
   "cell_type": "markdown",
   "metadata": {},
   "source": [
    "2. You are given following list of stocks and their prices in last 3 days,\n",
    "\n",
    "    |Stock|Prices|\n",
    "    |-------|----------|\n",
    "    |info|[600,630,620]|\n",
    "    |ril|[1430,1490,1567]|\n",
    "    |mtl|[234,180,160]|\n",
    "\n",
    "    1. Write a program that asks user for operation. Value of operations could be,\n",
    "        1. print: When user enters print it should print following,\n",
    "            ```\n",
    "            info ==> [600, 630, 620] ==> avg:  616.67\n",
    "            ril ==> [1430, 1490, 1567] ==> avg:  1495.67\n",
    "            mtl ==> [234, 180, 160] ==> avg:  191.33\n",
    "            ```\n",
    "        2. add: When user enters 'add', it asks for stock ticker and price. If stock already exist in your list (like info, ril etc) then it will append the price to the list. Otherwise it will create new entry in your dictionary. For example entering 'tata' and 560 will add tata ==> [560] to the dictionary of stocks."
   ]
  },
  {
   "cell_type": "markdown",
   "metadata": {},
   "source": [
    "3. Write circle_calc() function that takes radius of a circle as an input from user and then it calculates and returns area, circumference and diameter. You should get these values in your main program by calling circle_calc function and then print them"
   ]
  },
  {
   "cell_type": "markdown",
   "metadata": {},
   "source": []
  }
 ],
 "metadata": {
  "kernelspec": {
   "display_name": "base",
   "language": "python",
   "name": "python3"
  },
  "language_info": {
   "codemirror_mode": {
    "name": "ipython",
    "version": 3
   },
   "file_extension": ".py",
   "mimetype": "text/x-python",
   "name": "python",
   "nbconvert_exporter": "python",
   "pygments_lexer": "ipython3",
   "version": "3.11.7"
  }
 },
 "nbformat": 4,
 "nbformat_minor": 2
}
