{
 "cells": [
  {
   "cell_type": "markdown",
   "metadata": {},
   "source": [
    "#### Task 1\n",
    "Write a function called calculate_area that takes base and height as an input and returns and area of a triangle. Equation of an area of a triangle is,\n",
    "```\n",
    "area = (1/2)*base*height"
   ]
  },
  {
   "cell_type": "code",
   "execution_count": 9,
   "metadata": {},
   "outputs": [
    {
     "name": "stdout",
     "output_type": "stream",
     "text": [
      "Area of the Triangle: 6.0\n"
     ]
    }
   ],
   "source": [
    "def calculate_area(b,h):\n",
    "    area=1/2*(b*h)\n",
    "    return area\n",
    "\n",
    "n=calculate_area(3,4)\n",
    "print(\"Area of the Triangle:\", n)\n"
   ]
  },
  {
   "cell_type": "markdown",
   "metadata": {},
   "source": [
    "#### Task 2\n",
    "Modify above function to take third parameter shape type. It can be either \"triangle\" or \"rectangle\". Based on shape type it will calculate area. Equation of rectangle's area is,\n",
    "```\n",
    "rectangle area=length*width\n",
    "```\n",
    "If no shape is supplied then it should take triangle as a default shape"
   ]
  },
  {
   "cell_type": "code",
   "execution_count": 13,
   "metadata": {},
   "outputs": [
    {
     "name": "stdout",
     "output_type": "stream",
     "text": [
      "The total area of the triangle:7.5\n",
      "The total area of the rectangle:24\n"
     ]
    }
   ],
   "source": [
    "def calculate_area(b,h,shape='triangle'):\n",
    "    if shape==\"triangle\":\n",
    "        area=1/2*(b*h)\n",
    "    elif shape==\"rectangle\":\n",
    "        area=b*h\n",
    "    else:\n",
    "        raise ValueError(\"Invalid shape type. Use 'triangle' or 'rectangle'.\")\n",
    "    return area\n",
    "\n",
    "triangle_area=calculate_area(3,5)\n",
    "print(f'The total area of the triangle:{triangle_area}')\n",
    "rectangle_area=calculate_area(6,4,'rectangle')\n",
    "print(f'The total area of the rectangle:{rectangle_area}')"
   ]
  },
  {
   "cell_type": "markdown",
   "metadata": {},
   "source": [
    "#### Task 3\n",
    "Write a function called print_pattern that takes integer number as an argument and prints following pattern if input number is 3,\n",
    "```\n",
    "*\n",
    "**\n",
    "***\n",
    "```\n",
    "if input is 4 then it should print\n",
    "```\n",
    "*\n",
    "**\n",
    "***\n",
    "****\n",
    "```\n",
    "Basically number of lines it prints is equal to that number. (Hint: you need to use two for loops)"
   ]
  },
  {
   "cell_type": "code",
   "execution_count": 19,
   "metadata": {},
   "outputs": [
    {
     "name": "stdout",
     "output_type": "stream",
     "text": [
      "Print pattern with input=3\n",
      "*\n",
      "**\n",
      "***\n",
      "Print pattern with input=4\n",
      "*\n",
      "**\n",
      "***\n",
      "****\n",
      "Print pattern with no input number\n",
      "*\n",
      "**\n",
      "***\n",
      "****\n",
      "*****\n"
     ]
    }
   ],
   "source": [
    "def print_pattern(a=5):\n",
    "    for i in range(a):\n",
    "        b=''\n",
    "        for c in range(i+1):\n",
    "            b=b+\"*\"\n",
    "        print(b)\n",
    "print(\"Print pattern with input=3\")\n",
    "print_pattern(3)\n",
    "print(\"Print pattern with input=4\")\n",
    "print_pattern(4)\n",
    "print('Print pattern with no input number')\n",
    "print_pattern()"
   ]
  }
 ],
 "metadata": {
  "kernelspec": {
   "display_name": "base",
   "language": "python",
   "name": "python3"
  },
  "language_info": {
   "codemirror_mode": {
    "name": "ipython",
    "version": 3
   },
   "file_extension": ".py",
   "mimetype": "text/x-python",
   "name": "python",
   "nbconvert_exporter": "python",
   "pygments_lexer": "ipython3",
   "version": "3.11.7"
  }
 },
 "nbformat": 4,
 "nbformat_minor": 2
}
